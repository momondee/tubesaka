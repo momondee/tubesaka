{
  "nbformat": 4,
  "nbformat_minor": 0,
  "metadata": {
    "colab": {
      "provenance": []
    },
    "kernelspec": {
      "name": "python3",
      "display_name": "Python 3"
    },
    "language_info": {
      "name": "python"
    }
  },
  "cells": [
    {
      "cell_type": "code",
      "execution_count": null,
      "metadata": {
        "id": "Rf2LVcups4Qu"
      },
      "outputs": [],
      "source": [
        "def BinSearchIterative(nim_i,listnim):\n",
        "    a = listnim\n",
        "    i = 0\n",
        "    j = len(a) - 1\n",
        "    find = False\n",
        "    while not find and i <= j:\n",
        "      mid = (i + j) // 2\n",
        "      if a[mid] == nim_i:\n",
        "        find = True\n",
        "      else:\n",
        "        if a[mid] < nim_i:\n",
        "          i = mid + 1\n",
        "        else :\n",
        "          j = mid - 1\n",
        "    if find == True :\n",
        "      return mid\n",
        "    else :\n",
        "      return -1\n",
        "\n",
        "listnim = ['1301170323','1301210471','1301210521',\n",
        "           '1301210539','1301213003','1301213094']\n",
        "nim_i = input('NIM yang ingin dicari:')\n",
        "result = BinSearchIterative(nim_i, listnim)\n",
        "\n",
        "if result != -1:\n",
        "\tprint(\"NIM yang sama ditemukan pada indeks ke-\",result)\n",
        "else:\n",
        "\tprint(\"NIM yang sama tidak ditemukan\")"
      ]
    },
    {
      "cell_type": "code",
      "source": [
        "def SeqSearchIterative(nim_i,listnim):\n",
        "    a = listnim\n",
        "    k = 0\n",
        "    find = False\n",
        "    while k < len(a) and not find:\n",
        "      if a[k] == nim_i:\n",
        "        find = True\n",
        "      else :\n",
        "        k = k + 1\n",
        "    if find == True :\n",
        "      return k\n",
        "    else :\n",
        "      return -1\n",
        "\n",
        "listnim = ['1301213094','1301213003','1301210539',\n",
        "          '1301210521','1301210471','1301170323']\n",
        "nim_i = input('NIM yang ingin dicari:')\n",
        "result = SeqSearchIterative(nim_i, listnim)\n",
        "\n",
        "if result != -1:\n",
        "\tprint(\"NIM yang sama ditemukan pada indeks ke-\",result)\n",
        "else:\n",
        "\tprint(\"NIM yang sama tidak ditemukan\")"
      ],
      "metadata": {
        "id": "cykCLVK1XqHb"
      },
      "execution_count": null,
      "outputs": []
    }
  ]
}